{
 "cells": [
  {
   "cell_type": "code",
   "execution_count": 47,
   "id": "4a11e475-1c91-46a6-bcc0-60affbdf4f9f",
   "metadata": {},
   "outputs": [],
   "source": [
    "import pandas as pd"
   ]
  },
  {
   "cell_type": "code",
   "execution_count": 49,
   "id": "15cc11e7-707c-4ae6-9ff0-8e2ad5440ad9",
   "metadata": {},
   "outputs": [],
   "source": [
    "df = pd.read_excel(\"SalesData.xlsx\", engine='openpyxl') \n",
    "df.to_csv(\"SalesData.csv\", index=False)"
   ]
  },
  {
   "cell_type": "code",
   "execution_count": 51,
   "id": "07c3851e-3cb6-435b-82c2-fc98d1d51877",
   "metadata": {},
   "outputs": [
    {
     "data": {
      "text/html": [
       "<div>\n",
       "<style scoped>\n",
       "    .dataframe tbody tr th:only-of-type {\n",
       "        vertical-align: middle;\n",
       "    }\n",
       "\n",
       "    .dataframe tbody tr th {\n",
       "        vertical-align: top;\n",
       "    }\n",
       "\n",
       "    .dataframe thead th {\n",
       "        text-align: right;\n",
       "    }\n",
       "</style>\n",
       "<table border=\"1\" class=\"dataframe\">\n",
       "  <thead>\n",
       "    <tr style=\"text-align: right;\">\n",
       "      <th></th>\n",
       "      <th>OrderDate</th>\n",
       "      <th>Region</th>\n",
       "      <th>Manager</th>\n",
       "      <th>SalesMan</th>\n",
       "      <th>Item</th>\n",
       "      <th>Units</th>\n",
       "      <th>Unit_price</th>\n",
       "      <th>Sale_amt</th>\n",
       "    </tr>\n",
       "  </thead>\n",
       "  <tbody>\n",
       "    <tr>\n",
       "      <th>0</th>\n",
       "      <td>2018-01-06</td>\n",
       "      <td>East</td>\n",
       "      <td>Martha</td>\n",
       "      <td>Alexander</td>\n",
       "      <td>Television</td>\n",
       "      <td>95</td>\n",
       "      <td>1198.0</td>\n",
       "      <td>113810.0</td>\n",
       "    </tr>\n",
       "    <tr>\n",
       "      <th>1</th>\n",
       "      <td>2018-01-23</td>\n",
       "      <td>Central</td>\n",
       "      <td>Hermann</td>\n",
       "      <td>Shelli</td>\n",
       "      <td>Home Theater</td>\n",
       "      <td>50</td>\n",
       "      <td>500.0</td>\n",
       "      <td>25000.0</td>\n",
       "    </tr>\n",
       "    <tr>\n",
       "      <th>2</th>\n",
       "      <td>2018-02-09</td>\n",
       "      <td>Central</td>\n",
       "      <td>Hermann</td>\n",
       "      <td>Luis</td>\n",
       "      <td>Television</td>\n",
       "      <td>36</td>\n",
       "      <td>1198.0</td>\n",
       "      <td>43128.0</td>\n",
       "    </tr>\n",
       "    <tr>\n",
       "      <th>3</th>\n",
       "      <td>2018-02-26</td>\n",
       "      <td>Central</td>\n",
       "      <td>Timothy</td>\n",
       "      <td>David</td>\n",
       "      <td>Cell Phone</td>\n",
       "      <td>27</td>\n",
       "      <td>225.0</td>\n",
       "      <td>6075.0</td>\n",
       "    </tr>\n",
       "    <tr>\n",
       "      <th>4</th>\n",
       "      <td>2018-03-15</td>\n",
       "      <td>West</td>\n",
       "      <td>Timothy</td>\n",
       "      <td>Stephen</td>\n",
       "      <td>Television</td>\n",
       "      <td>56</td>\n",
       "      <td>1198.0</td>\n",
       "      <td>67088.0</td>\n",
       "    </tr>\n",
       "  </tbody>\n",
       "</table>\n",
       "</div>"
      ],
      "text/plain": [
       "   OrderDate   Region  Manager   SalesMan          Item  Units  Unit_price  \\\n",
       "0 2018-01-06     East   Martha  Alexander    Television     95      1198.0   \n",
       "1 2018-01-23  Central  Hermann     Shelli  Home Theater     50       500.0   \n",
       "2 2018-02-09  Central  Hermann       Luis    Television     36      1198.0   \n",
       "3 2018-02-26  Central  Timothy      David    Cell Phone     27       225.0   \n",
       "4 2018-03-15     West  Timothy    Stephen    Television     56      1198.0   \n",
       "\n",
       "   Sale_amt  \n",
       "0  113810.0  \n",
       "1   25000.0  \n",
       "2   43128.0  \n",
       "3    6075.0  \n",
       "4   67088.0  "
      ]
     },
     "execution_count": 51,
     "metadata": {},
     "output_type": "execute_result"
    }
   ],
   "source": [
    "df.head()"
   ]
  },
  {
   "cell_type": "code",
   "execution_count": 53,
   "id": "702ab0c5-87cc-4962-8ac8-cf07fc4e093a",
   "metadata": {},
   "outputs": [
    {
     "data": {
      "text/plain": [
       "array(['Television', 'Home Theater', 'Cell Phone', 'Desk', 'Video Games'],\n",
       "      dtype=object)"
      ]
     },
     "execution_count": 53,
     "metadata": {},
     "output_type": "execute_result"
    }
   ],
   "source": [
    "df[\"Item\"].unique()"
   ]
  },
  {
   "cell_type": "markdown",
   "id": "02d1c62f-bbbf-4684-b49f-c49f2306048f",
   "metadata": {},
   "source": [
    "Question_1"
   ]
  },
  {
   "cell_type": "code",
   "execution_count": 56,
   "id": "5410345d-8a1a-4787-a284-9f03bb0f8496",
   "metadata": {},
   "outputs": [
    {
     "data": {
      "text/plain": [
       "Item\n",
       "Cell Phone      3375.0\n",
       "Desk             250.0\n",
       "Home Theater    2000.0\n",
       "Television      8386.0\n",
       "Video Games      936.0\n",
       "Name: Sale_amt, dtype: float64"
      ]
     },
     "execution_count": 56,
     "metadata": {},
     "output_type": "execute_result"
    }
   ],
   "source": [
    "df.groupby(\"Item\")[\"Sale_amt\"].min()"
   ]
  },
  {
   "cell_type": "markdown",
   "id": "9666a014-7592-4e31-9550-13d01e07763d",
   "metadata": {},
   "source": [
    "Question_2"
   ]
  },
  {
   "cell_type": "code",
   "execution_count": 59,
   "id": "96c854fb-e5c2-4b88-b7bc-ce70ea443edb",
   "metadata": {},
   "outputs": [
    {
     "data": {
      "text/plain": [
       "Year  Region \n",
       "2018  Central    479825.0\n",
       "      East       293780.0\n",
       "      West       105424.0\n",
       "2019  Central    349944.5\n",
       "      East        27227.0\n",
       "      West        49475.0\n",
       "Name: Sale_amt, dtype: float64"
      ]
     },
     "execution_count": 59,
     "metadata": {},
     "output_type": "execute_result"
    }
   ],
   "source": [
    "df['OrderDate'] = pd.to_datetime(df['OrderDate'])\n",
    "df['Year']=df['OrderDate'].dt.year\n",
    "total_sales=df.groupby(['Year', 'Region'])['Sale_amt'].sum()\n",
    "total_sales"
   ]
  },
  {
   "cell_type": "markdown",
   "id": "2886c361-b184-4d32-ab9d-eff4b8008579",
   "metadata": {},
   "source": [
    "Question_3"
   ]
  },
  {
   "cell_type": "code",
   "execution_count": 84,
   "id": "a2989e00-bcc8-4151-9cd0-5a8142f6a844",
   "metadata": {},
   "outputs": [],
   "source": [
    "reference_date = pd.to_datetime(\"2018-01-01\")\n",
    "df['days_diff']=(df['OrderDate']-reference_date)"
   ]
  },
  {
   "cell_type": "code",
   "execution_count": 86,
   "id": "3c49aaf0-b833-4307-94f0-f8c4c1472b34",
   "metadata": {},
   "outputs": [
    {
     "data": {
      "text/html": [
       "<div>\n",
       "<style scoped>\n",
       "    .dataframe tbody tr th:only-of-type {\n",
       "        vertical-align: middle;\n",
       "    }\n",
       "\n",
       "    .dataframe tbody tr th {\n",
       "        vertical-align: top;\n",
       "    }\n",
       "\n",
       "    .dataframe thead th {\n",
       "        text-align: right;\n",
       "    }\n",
       "</style>\n",
       "<table border=\"1\" class=\"dataframe\">\n",
       "  <thead>\n",
       "    <tr style=\"text-align: right;\">\n",
       "      <th></th>\n",
       "      <th>OrderDate</th>\n",
       "      <th>Region</th>\n",
       "      <th>Manager</th>\n",
       "      <th>SalesMan</th>\n",
       "      <th>Item</th>\n",
       "      <th>Units</th>\n",
       "      <th>Unit_price</th>\n",
       "      <th>Sale_amt</th>\n",
       "      <th>Year</th>\n",
       "      <th>days_diff</th>\n",
       "    </tr>\n",
       "  </thead>\n",
       "  <tbody>\n",
       "    <tr>\n",
       "      <th>0</th>\n",
       "      <td>2018-01-06</td>\n",
       "      <td>East</td>\n",
       "      <td>Martha</td>\n",
       "      <td>Alexander</td>\n",
       "      <td>Television</td>\n",
       "      <td>95</td>\n",
       "      <td>1198.0</td>\n",
       "      <td>113810.0</td>\n",
       "      <td>2018</td>\n",
       "      <td>5 days</td>\n",
       "    </tr>\n",
       "    <tr>\n",
       "      <th>1</th>\n",
       "      <td>2018-01-23</td>\n",
       "      <td>Central</td>\n",
       "      <td>Hermann</td>\n",
       "      <td>Shelli</td>\n",
       "      <td>Home Theater</td>\n",
       "      <td>50</td>\n",
       "      <td>500.0</td>\n",
       "      <td>25000.0</td>\n",
       "      <td>2018</td>\n",
       "      <td>22 days</td>\n",
       "    </tr>\n",
       "    <tr>\n",
       "      <th>2</th>\n",
       "      <td>2018-02-09</td>\n",
       "      <td>Central</td>\n",
       "      <td>Hermann</td>\n",
       "      <td>Luis</td>\n",
       "      <td>Television</td>\n",
       "      <td>36</td>\n",
       "      <td>1198.0</td>\n",
       "      <td>43128.0</td>\n",
       "      <td>2018</td>\n",
       "      <td>39 days</td>\n",
       "    </tr>\n",
       "    <tr>\n",
       "      <th>3</th>\n",
       "      <td>2018-02-26</td>\n",
       "      <td>Central</td>\n",
       "      <td>Timothy</td>\n",
       "      <td>David</td>\n",
       "      <td>Cell Phone</td>\n",
       "      <td>27</td>\n",
       "      <td>225.0</td>\n",
       "      <td>6075.0</td>\n",
       "      <td>2018</td>\n",
       "      <td>56 days</td>\n",
       "    </tr>\n",
       "    <tr>\n",
       "      <th>4</th>\n",
       "      <td>2018-03-15</td>\n",
       "      <td>West</td>\n",
       "      <td>Timothy</td>\n",
       "      <td>Stephen</td>\n",
       "      <td>Television</td>\n",
       "      <td>56</td>\n",
       "      <td>1198.0</td>\n",
       "      <td>67088.0</td>\n",
       "      <td>2018</td>\n",
       "      <td>73 days</td>\n",
       "    </tr>\n",
       "  </tbody>\n",
       "</table>\n",
       "</div>"
      ],
      "text/plain": [
       "   OrderDate   Region  Manager   SalesMan          Item  Units  Unit_price  \\\n",
       "0 2018-01-06     East   Martha  Alexander    Television     95      1198.0   \n",
       "1 2018-01-23  Central  Hermann     Shelli  Home Theater     50       500.0   \n",
       "2 2018-02-09  Central  Hermann       Luis    Television     36      1198.0   \n",
       "3 2018-02-26  Central  Timothy      David    Cell Phone     27       225.0   \n",
       "4 2018-03-15     West  Timothy    Stephen    Television     56      1198.0   \n",
       "\n",
       "   Sale_amt  Year days_diff  \n",
       "0  113810.0  2018    5 days  \n",
       "1   25000.0  2018   22 days  \n",
       "2   43128.0  2018   39 days  \n",
       "3    6075.0  2018   56 days  \n",
       "4   67088.0  2018   73 days  "
      ]
     },
     "execution_count": 86,
     "metadata": {},
     "output_type": "execute_result"
    }
   ],
   "source": [
    "df.head()"
   ]
  },
  {
   "cell_type": "markdown",
   "id": "955da77c-91f5-4d17-9627-2ad62c1ada6d",
   "metadata": {},
   "source": [
    "Question_4"
   ]
  },
  {
   "cell_type": "code",
   "execution_count": 95,
   "id": "16ed53bf-4796-4245-a2ca-a0e7939f2dee",
   "metadata": {},
   "outputs": [
    {
     "data": {
      "text/html": [
       "<div>\n",
       "<style scoped>\n",
       "    .dataframe tbody tr th:only-of-type {\n",
       "        vertical-align: middle;\n",
       "    }\n",
       "\n",
       "    .dataframe tbody tr th {\n",
       "        vertical-align: top;\n",
       "    }\n",
       "\n",
       "    .dataframe thead th {\n",
       "        text-align: right;\n",
       "    }\n",
       "</style>\n",
       "<table border=\"1\" class=\"dataframe\">\n",
       "  <thead>\n",
       "    <tr style=\"text-align: right;\">\n",
       "      <th></th>\n",
       "      <th>manager</th>\n",
       "      <th>list_of_salesmen</th>\n",
       "    </tr>\n",
       "  </thead>\n",
       "  <tbody>\n",
       "    <tr>\n",
       "      <th>0</th>\n",
       "      <td>Douglas</td>\n",
       "      <td>[Michael, Karen, John, Karen, John, Karen, Joh...</td>\n",
       "    </tr>\n",
       "    <tr>\n",
       "      <th>1</th>\n",
       "      <td>Hermann</td>\n",
       "      <td>[Shelli, Luis, Luis, Sigal, Sigal, Shelli, Lui...</td>\n",
       "    </tr>\n",
       "    <tr>\n",
       "      <th>2</th>\n",
       "      <td>Martha</td>\n",
       "      <td>[Alexander, Alexander, Steven, Alexander, Dian...</td>\n",
       "    </tr>\n",
       "    <tr>\n",
       "      <th>3</th>\n",
       "      <td>Timothy</td>\n",
       "      <td>[David, Stephen, David, Stephen, David, David,...</td>\n",
       "    </tr>\n",
       "  </tbody>\n",
       "</table>\n",
       "</div>"
      ],
      "text/plain": [
       "   manager                                   list_of_salesmen\n",
       "0  Douglas  [Michael, Karen, John, Karen, John, Karen, Joh...\n",
       "1  Hermann  [Shelli, Luis, Luis, Sigal, Sigal, Shelli, Lui...\n",
       "2   Martha  [Alexander, Alexander, Steven, Alexander, Dian...\n",
       "3  Timothy  [David, Stephen, David, Stephen, David, David,..."
      ]
     },
     "execution_count": 95,
     "metadata": {},
     "output_type": "execute_result"
    }
   ],
   "source": [
    "new_df= df.groupby('Manager')['SalesMan'].apply(list).reset_index()\n",
    "new_df.columns = ['manager', 'list_of_salesmen']\n",
    "new_df"
   ]
  },
  {
   "cell_type": "markdown",
   "id": "98d4cec0-6be7-4439-bfc7-0d5c44c67078",
   "metadata": {},
   "source": [
    "Question_5"
   ]
  },
  {
   "cell_type": "code",
   "execution_count": 100,
   "id": "c0f6fa3d-0fef-428f-978b-798b0a527890",
   "metadata": {},
   "outputs": [
    {
     "data": {
      "text/html": [
       "<div>\n",
       "<style scoped>\n",
       "    .dataframe tbody tr th:only-of-type {\n",
       "        vertical-align: middle;\n",
       "    }\n",
       "\n",
       "    .dataframe tbody tr th {\n",
       "        vertical-align: top;\n",
       "    }\n",
       "\n",
       "    .dataframe thead th {\n",
       "        text-align: right;\n",
       "    }\n",
       "</style>\n",
       "<table border=\"1\" class=\"dataframe\">\n",
       "  <thead>\n",
       "    <tr style=\"text-align: right;\">\n",
       "      <th></th>\n",
       "      <th>Region</th>\n",
       "      <th>salesmen_count</th>\n",
       "      <th>total_sales</th>\n",
       "    </tr>\n",
       "  </thead>\n",
       "  <tbody>\n",
       "    <tr>\n",
       "      <th>0</th>\n",
       "      <td>Central</td>\n",
       "      <td>6</td>\n",
       "      <td>829769.5</td>\n",
       "    </tr>\n",
       "    <tr>\n",
       "      <th>1</th>\n",
       "      <td>East</td>\n",
       "      <td>3</td>\n",
       "      <td>321007.0</td>\n",
       "    </tr>\n",
       "    <tr>\n",
       "      <th>2</th>\n",
       "      <td>West</td>\n",
       "      <td>2</td>\n",
       "      <td>154899.0</td>\n",
       "    </tr>\n",
       "  </tbody>\n",
       "</table>\n",
       "</div>"
      ],
      "text/plain": [
       "    Region  salesmen_count  total_sales\n",
       "0  Central               6     829769.5\n",
       "1     East               3     321007.0\n",
       "2     West               2     154899.0"
      ]
     },
     "execution_count": 100,
     "metadata": {},
     "output_type": "execute_result"
    }
   ],
   "source": [
    "regions=df.groupby('Region').agg({\n",
    "    'SalesMan': 'nunique',     \n",
    "    'Sale_amt': 'sum'         \n",
    "}).reset_index()\n",
    "regions.columns = ['Region', 'salesmen_count', 'total_sales']\n",
    "regions"
   ]
  },
  {
   "cell_type": "markdown",
   "id": "2107c488-1454-49e5-8c90-d8ef0e279dca",
   "metadata": {},
   "source": [
    "Question_6"
   ]
  },
  {
   "cell_type": "code",
   "execution_count": 103,
   "id": "c4db3e4f-464e-40cf-ad6a-6d7f1b931015",
   "metadata": {},
   "outputs": [
    {
     "data": {
      "text/html": [
       "<div>\n",
       "<style scoped>\n",
       "    .dataframe tbody tr th:only-of-type {\n",
       "        vertical-align: middle;\n",
       "    }\n",
       "\n",
       "    .dataframe tbody tr th {\n",
       "        vertical-align: top;\n",
       "    }\n",
       "\n",
       "    .dataframe thead th {\n",
       "        text-align: right;\n",
       "    }\n",
       "</style>\n",
       "<table border=\"1\" class=\"dataframe\">\n",
       "  <thead>\n",
       "    <tr style=\"text-align: right;\">\n",
       "      <th></th>\n",
       "      <th>Manager</th>\n",
       "      <th>percentage_sales</th>\n",
       "    </tr>\n",
       "  </thead>\n",
       "  <tbody>\n",
       "    <tr>\n",
       "      <th>0</th>\n",
       "      <td>Douglas</td>\n",
       "      <td>18.308990</td>\n",
       "    </tr>\n",
       "    <tr>\n",
       "      <th>1</th>\n",
       "      <td>Hermann</td>\n",
       "      <td>27.963188</td>\n",
       "    </tr>\n",
       "    <tr>\n",
       "      <th>2</th>\n",
       "      <td>Martha</td>\n",
       "      <td>36.187629</td>\n",
       "    </tr>\n",
       "    <tr>\n",
       "      <th>3</th>\n",
       "      <td>Timothy</td>\n",
       "      <td>17.540193</td>\n",
       "    </tr>\n",
       "  </tbody>\n",
       "</table>\n",
       "</div>"
      ],
      "text/plain": [
       "   Manager  percentage_sales\n",
       "0  Douglas         18.308990\n",
       "1  Hermann         27.963188\n",
       "2   Martha         36.187629\n",
       "3  Timothy         17.540193"
      ]
     },
     "execution_count": 103,
     "metadata": {},
     "output_type": "execute_result"
    }
   ],
   "source": [
    "manager_sales=df.groupby('Manager')['Sale_amt'].sum().reset_index()\n",
    "total_sales=manager_sales['Sale_amt'].sum()\n",
    "manager_sales['percentage_sales']=(manager_sales['Sale_amt']/total_sales)*100\n",
    "manager_percentage_sales=manager_sales.drop('Sale_amt',axis=1)\n",
    "manager_percentage_sales"
   ]
  },
  {
   "cell_type": "code",
   "execution_count": null,
   "id": "45f0ddd8-0704-4fbf-a157-e8cd760f79c6",
   "metadata": {},
   "outputs": [],
   "source": []
  }
 ],
 "metadata": {
  "kernelspec": {
   "display_name": "Python 3 (ipykernel)",
   "language": "python",
   "name": "python3"
  },
  "language_info": {
   "codemirror_mode": {
    "name": "ipython",
    "version": 3
   },
   "file_extension": ".py",
   "mimetype": "text/x-python",
   "name": "python",
   "nbconvert_exporter": "python",
   "pygments_lexer": "ipython3",
   "version": "3.12.4"
  }
 },
 "nbformat": 4,
 "nbformat_minor": 5
}
